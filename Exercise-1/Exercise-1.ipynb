{
 "cells": [
  {
   "cell_type": "code",
   "execution_count": 26,
   "id": "f7f07408-0ae8-4186-bcd2-6eae8e4a00c5",
   "metadata": {},
   "outputs": [],
   "source": [
    "ice_cream_rating = 1\n",
    "sleeping_rating = 9"
   ]
  },
  {
   "cell_type": "code",
   "execution_count": 27,
   "id": "1e9784fe-3998-4d98-b76a-04cf6cda8b3a",
   "metadata": {},
   "outputs": [],
   "source": [
    "first_name = \"Dave\"\n",
    "last_name = \"Whipp\"\n",
    "my_name = f'{first_name} {last_name}'"
   ]
  },
  {
   "cell_type": "code",
   "execution_count": 28,
   "id": "37cc3a68-d578-4ff5-9d10-99b3e85fb358",
   "metadata": {},
   "outputs": [],
   "source": [
    "happiness_rating = (ice_cream_rating + sleeping_rating) / 2"
   ]
  },
  {
   "cell_type": "code",
   "execution_count": 29,
   "id": "7088a55b-9cd2-4cee-b11f-56e986fdbd29",
   "metadata": {},
   "outputs": [
    {
     "name": "stdout",
     "output_type": "stream",
     "text": [
      "1 : <class 'int'>\n",
      "9 : <class 'int'>\n",
      "Dave : <class 'str'>\n",
      "Whipp : <class 'str'>\n",
      "Dave Whipp : <class 'str'>\n",
      "5.0 : <class 'float'>\n"
     ]
    }
   ],
   "source": [
    "for variable in [ice_cream_rating, sleeping_rating, first_name, last_name, my_name, happiness_rating]:\n",
    "    print(variable, \":\", type(variable))"
   ]
  },
  {
   "cell_type": "markdown",
   "id": "7bafab9f-21ae-46d7-987c-5cc5c3194091",
   "metadata": {},
   "source": [
    "wow, surprise, surprise, 'happiness_rating' is a float..."
   ]
  },
  {
   "cell_type": "code",
   "execution_count": 30,
   "id": "57c582ee-38f6-4689-9459-22b563b43ddf",
   "metadata": {},
   "outputs": [
    {
     "name": "stdout",
     "output_type": "stream",
     "text": [
      "My name is Dave and I give eating ice cream a score of 1 out of 10!\n",
      "I am Dave Whipp and my sleeping enjoyment rating is 9 / 10!\n",
      "Based on the factors above, my happiness rating is 5.0 out of 10, or 50.0% !\n"
     ]
    }
   ],
   "source": [
    "print(f'My name is {first_name} and I give eating ice cream a score of {ice_cream_rating} out of 10!')\n",
    "print(f'I am {my_name} and my sleeping enjoyment rating is {sleeping_rating} / 10!')\n",
    "print(f'Based on the factors above, my happiness rating is {happiness_rating} out of 10, or {happiness_rating/10:.1%} !')"
   ]
  },
  {
   "cell_type": "code",
   "execution_count": null,
   "id": "62a905d6-7205-45ec-a638-23ce31b8058c",
   "metadata": {},
   "outputs": [],
   "source": []
  }
 ],
 "metadata": {
  "kernelspec": {
   "display_name": "Python 3 (ipykernel)",
   "language": "python",
   "name": "python3"
  },
  "language_info": {
   "codemirror_mode": {
    "name": "ipython",
    "version": 3
   },
   "file_extension": ".py",
   "mimetype": "text/x-python",
   "name": "python",
   "nbconvert_exporter": "python",
   "pygments_lexer": "ipython3",
   "version": "3.10.12"
  }
 },
 "nbformat": 4,
 "nbformat_minor": 5
}
