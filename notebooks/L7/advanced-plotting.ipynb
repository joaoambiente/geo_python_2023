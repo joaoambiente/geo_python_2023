{
 "cells": [
  {
   "cell_type": "markdown",
   "metadata": {},
   "source": [
    "# More advanced plotting with Pandas/Matplotlib\n",
    "\n",
    "At this point you should know the basics of making plots with Matplotlib module.\n",
    "Now we will expand on our basic plotting skills to learn how to create more advanced plots.\n",
    "In this part, we will show how to visualize data using Pandas/Matplotlib and create plots such as the one below.\n",
    "\n",
    "![Subplot example in Matplotlib](img/subplots.png)"
   ]
  },
  {
   "cell_type": "markdown",
   "metadata": {},
   "source": [
    "## The data\n",
    "\n",
    "In this part of the lesson we'll continue working with our weather observation data from the Helsinki-Vantaa airport [downloaded from NOAA](https://www7.ncdc.noaa.gov/CDO/cdopoemain.cmd?datasetabbv=DS3505&countryabbv=&georegionabbv=&resolution=40)."
   ]
  },
  {
   "cell_type": "markdown",
   "metadata": {},
   "source": [
    "## Getting started\n",
    "\n",
    "Let's start again by importing the libraries we'll need."
   ]
  },
  {
   "cell_type": "code",
   "execution_count": null,
   "metadata": {},
   "outputs": [],
   "source": [
    "import pandas as pd\n",
    "import matplotlib.pyplot as plt"
   ]
  },
  {
   "cell_type": "markdown",
   "metadata": {},
   "source": [
    "### Loading the data\n",
    "\n",
    "Now we'll load the data just as we had previously in the last part of the lesson. This will take a moment, we have a large dataset :D."
   ]
  },
  {
   "cell_type": "code",
   "execution_count": null,
   "metadata": {},
   "outputs": [],
   "source": [
    "fp = r\"data/029740.txt\"\n",
    "\n",
    "data = pd.read_csv(fp, delim_whitespace=True, \n",
    "                   na_values=['*', '**', '***', '****', '*****', '******'],\n",
    "                   usecols=['YR--MODAHRMN', 'TEMP', 'MAX', 'MIN'],\n",
    "                   parse_dates=['YR--MODAHRMN'], index_col='YR--MODAHRMN')"
   ]
  },
  {
   "cell_type": "code",
   "execution_count": null,
   "metadata": {},
   "outputs": [],
   "source": []
  },
  {
   "cell_type": "markdown",
   "metadata": {},
   "source": [
    "OK, we're closing in on one million rows of data.\n",
    "\n",
    "Let's have a closer look at the time and temperature columns: "
   ]
  },
  {
   "cell_type": "code",
   "execution_count": null,
   "metadata": {},
   "outputs": [],
   "source": []
  },
  {
   "cell_type": "markdown",
   "metadata": {},
   "source": [
    "Let's go ahead and rename the `'TEMP'` column, since we'll later convert our temperatures from Fahrenheit to Celsius."
   ]
  },
  {
   "cell_type": "code",
   "execution_count": null,
   "metadata": {},
   "outputs": [],
   "source": [
    "new_names = {'TEMP':'TEMP_F'}\n",
    "data = data.rename(columns=new_names)"
   ]
  },
  {
   "cell_type": "markdown",
   "metadata": {},
   "source": [
    "## Preparing the data\n",
    "\n",
    "First, we have to deal with no data values. Let's check how many no data values we have:"
   ]
  },
  {
   "cell_type": "code",
   "execution_count": null,
   "metadata": {},
   "outputs": [],
   "source": []
  },
  {
   "cell_type": "markdown",
   "metadata": {},
   "source": [
    "So, we have 3579 missing values in the TEMP_F column. Let's get rid of those. We need not worry about the `'MAX'` and `'MIN'` columns since we won't be using them. \n",
    "\n",
    "We can remove rows from our DataFrame where `'TEMP_F'` is missing values using the `dropna()` method: "
   ]
  },
  {
   "cell_type": "code",
   "execution_count": null,
   "metadata": {},
   "outputs": [],
   "source": []
  },
  {
   "cell_type": "code",
   "execution_count": null,
   "metadata": {},
   "outputs": [],
   "source": []
  },
  {
   "cell_type": "markdown",
   "metadata": {},
   "source": [
    "That's better."
   ]
  },
  {
   "cell_type": "markdown",
   "metadata": {},
   "source": [
    "### Converting temperatures to Celsius\n",
    "\n",
    "Now that we have loaded our data, we can convert the values of temperature in Fahrenheit to Celsius, like we have in earlier lessons."
   ]
  },
  {
   "cell_type": "code",
   "execution_count": null,
   "metadata": {},
   "outputs": [],
   "source": []
  },
  {
   "cell_type": "markdown",
   "metadata": {},
   "source": [
    "Let's check how our dataframe looks like at this point:"
   ]
  },
  {
   "cell_type": "code",
   "execution_count": null,
   "metadata": {},
   "outputs": [],
   "source": []
  },
  {
   "cell_type": "markdown",
   "metadata": {},
   "source": [
    "## Using subplots\n",
    "\n",
    "Let's continue working with the weather data and learn how to use *subplots*. Subplots are figures where you have multiple plots in different panels of the same figure, as was shown at the start of the lesson."
   ]
  },
  {
   "cell_type": "markdown",
   "metadata": {},
   "source": [
    "### Extracting seasonal temperatures\n",
    "\n",
    "Let's now select data from different seasons of the year in 2012/2013:\n",
    "\n",
    "- Winter (December 2012 - February 2013)\n",
    "- Spring (March 2013 - May 2013)\n",
    "- Summer (June 2013 - August 2013)\n",
    "- Autumn (Septempber 2013 - November 2013)"
   ]
  },
  {
   "cell_type": "code",
   "execution_count": null,
   "metadata": {},
   "outputs": [],
   "source": [
    "# Type in example for Winter\n",
    "\n",
    "\n",
    "# Spring\n",
    "spring = data.loc[(data.index >= '201303010000') & (data.index < '201306010000')]\n",
    "spring_temps = spring['TEMP_C']\n",
    "\n",
    "# Summer\n",
    "summer = data.loc[(data.index >= '201306010000') & (data.index < '201309010000')]\n",
    "summer_temps = summer['TEMP_C']\n",
    "\n",
    "# Autumn\n",
    "autumn = data.loc[(data.index >= '201309010000') & (data.index < '201312010000')]\n",
    "autumn_temps = autumn['TEMP_C']"
   ]
  },
  {
   "cell_type": "markdown",
   "metadata": {},
   "source": [
    "Now we can plot our data to see how the different seasons look separately."
   ]
  },
  {
   "cell_type": "code",
   "execution_count": null,
   "metadata": {},
   "outputs": [],
   "source": [
    "# Example plot of winter data\n"
   ]
  },
  {
   "cell_type": "code",
   "execution_count": null,
   "metadata": {},
   "outputs": [],
   "source": [
    "# Spring\n",
    "ax2 = spring['TEMP_C'].plot()"
   ]
  },
  {
   "cell_type": "code",
   "execution_count": null,
   "metadata": {},
   "outputs": [],
   "source": [
    "# Summer\n",
    "ax3 = summer['TEMP_C'].plot()"
   ]
  },
  {
   "cell_type": "code",
   "execution_count": null,
   "metadata": {},
   "outputs": [],
   "source": [
    "# Autumn\n",
    "ax4 = autumn['TEMP_C'].plot()"
   ]
  },
  {
   "cell_type": "markdown",
   "metadata": {},
   "source": [
    "OK, so from these plots we can already see that the temperatures in different seasons are quite different, which is rather obvious of course.\n",
    "It is important to also notice that the scale of the *y*-axis changes in these different plots.\n",
    "If we would like to compare different seasons to each other we need to make sure that the temperature scale is similar in the plots of the different seasons.\n",
    "\n",
    "### Finding data bounds\n",
    "\n",
    "Let's set our *y*-axis limits so that the upper limit is the maximum temperature + 5 degrees in our data (full year), and the lowest is the minimum temperature - 5 degrees."
   ]
  },
  {
   "cell_type": "code",
   "execution_count": null,
   "metadata": {},
   "outputs": [],
   "source": [
    "# Find minimum seasonal temperature\n",
    "\n",
    "# Max seasonal temperature\n",
    "max_temp = max(winter['TEMP_C'].max(), spring['TEMP_C'].max(), summer['TEMP_C'].max(), \n",
    "               autumn['TEMP_C'].max())\n",
    "max_temp = max_temp + 5.0\n",
    "\n",
    "print(\"Min:\", min_temp, \"Max:\", max_temp)"
   ]
  },
  {
   "cell_type": "markdown",
   "metadata": {},
   "source": [
    "OK, so now we can see that the minimum temperature in our data is -35 degrees and the maximum is +35 degrees.\n",
    "We can now use those values to standardize the y-axis scale of our plot.\n",
    "\n",
    "### Creating our first set of subplots\n",
    "\n",
    "Let's now continue and see how we can plot all these different plots into the same figure.\n",
    "We can create a 2x2 panel for our visualization using Matplotlib’s `subplots()` function where we specify how many rows and columns we want to have in our figure.\n",
    "We can also specify the size of our figure with `figsize()` parameter that takes the `width` and `height` values (in inches) as input."
   ]
  },
  {
   "cell_type": "code",
   "execution_count": null,
   "metadata": {},
   "outputs": [],
   "source": []
  },
  {
   "cell_type": "markdown",
   "metadata": {},
   "source": [
    "We can see that as a result we have now a list containing two nested lists where the first one contains the axis for column 1 and 2 on **row 1** and the second list contains the axis for columns 1 and 2 for **row 2**.\n",
    "We can parse these axes into own variables so it is easier to work with them."
   ]
  },
  {
   "cell_type": "code",
   "execution_count": null,
   "metadata": {},
   "outputs": [],
   "source": [
    "ax11 = axes[0][0]\n",
    "ax12 = axes[0][1]\n",
    "ax21 = axes[1][0]\n",
    "ax22 = axes[1][1]"
   ]
  },
  {
   "cell_type": "markdown",
   "metadata": {},
   "source": [
    "Now we have four different axis variables for different panels in our figure.\n",
    "Next we can use them to plot the seasonal data into them.\n",
    "Let's first plot the seasons and give different colors for the lines, and specify the *y*-scale limits to be the same with all subplots.\n",
    "With parameter `c` it is possible to specify the color of the line.\n",
    "You can find an extensive list of possible colors and RGB-color codes from [this link](http://www.rapidtables.com/web/color/RGB_Color.htm).\n",
    "With `lw` parameter you can specify the width of the line."
   ]
  },
  {
   "cell_type": "code",
   "execution_count": null,
   "metadata": {},
   "outputs": [],
   "source": [
    "# Set plot line width\n",
    "line_width = 1.5\n",
    "\n",
    "# Plot data\n",
    "# Winter\n",
    "\n",
    "# Spring\n",
    "spring['TEMP_C'].plot(ax=ax12, c='orange', lw=line_width,\n",
    "                      ylim=[min_temp, max_temp])\n",
    "# Summer\n",
    "summer['TEMP_C'].plot(ax=ax21, c='green', lw=line_width,\n",
    "                      ylim=[min_temp, max_temp])\n",
    "# Autumn\n",
    "autumn['TEMP_C'].plot(ax=ax22, c='brown', lw=line_width,\n",
    "                      ylim=[min_temp, max_temp])\n",
    "\n",
    "# Display figure\n",
    "fig"
   ]
  },
  {
   "cell_type": "markdown",
   "metadata": {},
   "source": [
    "Great, now we have all the plots in same figure! However, we can see that there are some problems with our *x*-axis labels and a few missing items we can add. Let's do that below."
   ]
  },
  {
   "cell_type": "code",
   "execution_count": null,
   "metadata": {},
   "outputs": [],
   "source": [
    "# Create the new figure and subplots\n",
    "fig, axes = plt.subplots(nrows=2, ncols=2, figsize=(12,8))\n",
    "\n",
    "# Rename the axes for ease of use\n",
    "ax11 = axes[0][0]\n",
    "ax12 = axes[0][1]\n",
    "ax21 = axes[1][0]\n",
    "ax22 = axes[1][1]"
   ]
  },
  {
   "cell_type": "markdown",
   "metadata": {},
   "source": [
    "Now, we'll add our seasonal temperatures to the plot commands for each time period."
   ]
  },
  {
   "cell_type": "code",
   "execution_count": null,
   "metadata": {},
   "outputs": [],
   "source": [
    "# Set plot line width\n",
    "line_width = 1.5\n",
    "\n",
    "# Plot data\n",
    "winter['TEMP_C'].plot(ax=ax11, c='blue', lw=line_width,\n",
    "                      ylim=[min_temp, max_temp], grid=True)\n",
    "spring['TEMP_C'].plot(ax=ax12, c='orange', lw=line_width,\n",
    "                      ylim=[min_temp, max_temp], grid=True)\n",
    "summer['TEMP_C'].plot(ax=ax21, c='green', lw=line_width,\n",
    "                      ylim=[min_temp, max_temp], grid=True)\n",
    "autumn['TEMP_C'].plot(ax=ax22, c='brown', lw=line_width,\n",
    "                      ylim=[min_temp, max_temp], grid=True)\n",
    "\n",
    "# Set figure title\n",
    "fig.suptitle('2012-2013 Seasonal temperature observations - Helsinki-Vantaa airport')\n",
    "\n",
    "# Rotate the x-axis labels so they don't overlap\n",
    "plt.setp(ax11.xaxis.get_majorticklabels(), rotation=20)\n",
    "plt.setp(ax12.xaxis.get_majorticklabels(), rotation=20)\n",
    "plt.setp(ax21.xaxis.get_majorticklabels(), rotation=20)\n",
    "plt.setp(ax22.xaxis.get_majorticklabels(), rotation=20)\n",
    "\n",
    "# Axis labels\n",
    "ax21.set_xlabel('Date')\n",
    "ax22.set_xlabel('Date')\n",
    "ax11.set_ylabel('Temperature [°C]')\n",
    "ax21.set_ylabel('Temperature [°C]')\n",
    "\n",
    "# Season label text\n",
    "ax11.text(pd.to_datetime('20130215'), -25, 'Winter')\n",
    "ax12.text(pd.to_datetime('20130515'), -25, 'Spring')\n",
    "ax21.text(pd.to_datetime('20130815'), -25, 'Summer')\n",
    "ax22.text(pd.to_datetime('20131115'), -25, 'Autumn')\n",
    "\n",
    "# Display plot\n",
    "fig"
   ]
  },
  {
   "cell_type": "markdown",
   "metadata": {},
   "source": [
    "Not bad."
   ]
  }
 ],
 "metadata": {
  "kernelspec": {
   "display_name": "Python 3",
   "language": "python",
   "name": "python3"
  },
  "language_info": {
   "codemirror_mode": {
    "name": "ipython",
    "version": 3
   },
   "file_extension": ".py",
   "mimetype": "text/x-python",
   "name": "python",
   "nbconvert_exporter": "python",
   "pygments_lexer": "ipython3",
   "version": "3.7.3"
  }
 },
 "nbformat": 4,
 "nbformat_minor": 4
}
