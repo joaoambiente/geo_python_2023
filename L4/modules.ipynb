{
 "cells": [
  {
   "cell_type": "markdown",
   "metadata": {},
   "source": [
    "# Loading and using modules\n",
    "\n",
    "Finnish university students are encouraged to use the CSC Notebooks platform.<br/>\n",
    "<a href=\"https://notebooks.csc.fi/\"><img alt=\"CSC badge\" src=\"https://img.shields.io/badge/launch-CSC%20notebook-blue.svg\" style=\"vertical-align:text-bottom\"></a>\n",
    "\n",
    "Others can follow the lesson and fill in their student notebooks using Binder.<br/>\n",
    "<a href=\"https://mybinder.org/v2/gh/geo-python/notebooks/master?urlpath=lab/tree/L4/modules.ipynb\"><img alt=\"Binder badge\" src=\"https://img.shields.io/badge/launch-binder-red.svg\" style=\"vertical-align:text-bottom\"></a>\n",
    "\n",
    "## Modules, packages and libraries?\n",
    "\n",
    "Python [module](https://docs.python.org/3/tutorial/modules.html#modules) refers to a piece of Python code that is designed to execute a spesific task. Technically, modules are simply Python script files (file extension`.py`) that contain function definitions and other statements. Python [packages](https://docs.python.org/3/tutorial/modules.html#packages) are a way of organizing modules into larger entities. \n",
    "\n",
    "Modules and packages are similar to what are more generally called libraries in programming languages, which again contain code related to a specific task such as mathematical operations.\n",
    "There are a *HUGE* number of Python modules/packages, and many of them greatly extend what can be done in a normal Python program.\n",
    "In fact, the abundance of free Python modules is one of the best reasons to learn and start using Python.\n",
    "\n",
    "**Note**: The words \"module\", \"package\" and \"library\" are often used interchangeably.\n",
    "\n",
    "## Loading modules\n",
    "\n",
    "Python modules can be loaded in a number of different ways.\n",
    "\n",
    "Let's start simple with the math module.\n",
    "Here, we’ll load the math module using the `import` statement and try out some of the functions in the module, such as the square root function `sqrt`."
   ]
  },
  {
   "cell_type": "code",
   "execution_count": 2,
   "metadata": {},
   "outputs": [],
   "source": [
    "import math"
   ]
  },
  {
   "cell_type": "code",
   "execution_count": 6,
   "metadata": {},
   "outputs": [],
   "source": [
    "square_of_four = math.sqrt(4)"
   ]
  },
  {
   "cell_type": "markdown",
   "metadata": {},
   "source": [
    "Here we have loaded the math module by typing `import math`, which tells Python to read in the functions in the math module and make them available for use.\n",
    "In our example, we see that we can use a function within the math library by typing the name of the module first, a period, and then the name of function we would like to use afterward (e.g., `math.sqrt()`)."
   ]
  },
  {
   "cell_type": "markdown",
   "metadata": {},
   "source": [
    "### Built-in functions\n",
    "\n",
    "[Built-in functions](https://docs.python.org/3/library/functions.html) such as `print()` are always available without importing anything:"
   ]
  },
  {
   "cell_type": "code",
   "execution_count": 7,
   "metadata": {},
   "outputs": [
    {
     "name": "stdout",
     "output_type": "stream",
     "text": [
      "2.0\n"
     ]
    }
   ],
   "source": [
    "print(square_of_four)"
   ]
  },
  {
   "cell_type": "markdown",
   "metadata": {},
   "source": [
    "Technically, the built-in functions belong to a module called `builtins`."
   ]
  },
  {
   "cell_type": "markdown",
   "metadata": {},
   "source": [
    "### Renaming imported modules\n",
    "\n",
    "We can also rename modules when they are imported.\n",
    "This can be helpful when using modules with longer names.\n",
    "Let's import the `math` module but rename it to `m` using the format `import module as name`.\n",
    "Then we can using the `sqrt` function from the math library and check the type of our module named `m`."
   ]
  },
  {
   "cell_type": "code",
   "execution_count": 8,
   "metadata": {},
   "outputs": [],
   "source": [
    "import math as m"
   ]
  },
  {
   "cell_type": "code",
   "execution_count": 9,
   "metadata": {},
   "outputs": [],
   "source": [
    "square_of_four = m.sqrt(4)"
   ]
  },
  {
   "cell_type": "code",
   "execution_count": 10,
   "metadata": {},
   "outputs": [
    {
     "data": {
      "text/plain": [
       "module"
      ]
     },
     "execution_count": 10,
     "metadata": {},
     "output_type": "execute_result"
    }
   ],
   "source": [
    "type(m)"
   ]
  },
  {
   "cell_type": "markdown",
   "metadata": {},
   "source": [
    "Here, we imported the `math` module to be usable with the name `m` instead of `math`. We will see other examples later in the course where using an alternate name is rather useful. For example, next week we will start using the `pandas` library for data analysis. It is customary to import pandas as `pd`:"
   ]
  },
  {
   "cell_type": "code",
   "execution_count": 11,
   "metadata": {},
   "outputs": [],
   "source": [
    "import pandas as pd"
   ]
  },
  {
   "cell_type": "markdown",
   "metadata": {},
   "source": [
    "### Importing a single function\n",
    "\n",
    "It is also possible to import only a single function from a module, rather than the entire module.\n",
    "This is sometimes useful when needing only a small piece of a large module.\n",
    "We can do this using the form `from module import function`.\n",
    "Let's import the `sqrt` function from the `math` module using this form.\n",
    "Again, we can test using our resulting function afterward."
   ]
  },
  {
   "cell_type": "code",
   "execution_count": 14,
   "metadata": {},
   "outputs": [],
   "source": [
    "from math import sqrt"
   ]
  },
  {
   "cell_type": "code",
   "execution_count": 16,
   "metadata": {},
   "outputs": [
    {
     "name": "stdout",
     "output_type": "stream",
     "text": [
      "2.0\n"
     ]
    }
   ],
   "source": [
    "square_of_four = sqrt(4)\n",
    "print(square_of_four)"
   ]
  },
  {
   "cell_type": "markdown",
   "metadata": {},
   "source": [
    "Though this can be useful, it has the drawback that **the imported function could conflict with other built-in or imported function names**, and you lose the information about which module contains the imported function.\n",
    "You should only do this when you truly need to.\n",
    "\n",
    "### Importing a submodule\n",
    "\n",
    "Some modules have submodules that can also be imported without importing the entire module.\n",
    "We may see examples of this later when making data plots using the pyplot sub-module of the [Matplotlib module](http://matplotlib.org/).\n",
    "In case you're curious, here is an example."
   ]
  },
  {
   "cell_type": "code",
   "execution_count": 17,
   "metadata": {},
   "outputs": [],
   "source": [
    "import matplotlib.pyplot as plt"
   ]
  },
  {
   "cell_type": "code",
   "execution_count": 28,
   "metadata": {},
   "outputs": [
    {
     "data": {
      "text/plain": [
       "[<matplotlib.lines.Line2D at 0x7f1592351570>]"
      ]
     },
     "execution_count": 28,
     "metadata": {},
     "output_type": "execute_result"
    },
    {
     "data": {
      "image/png": "[encoded data removed]",
      "text/plain": [
       "<Figure size 300x300 with 1 Axes>"
      ]
     },
     "metadata": {},
     "output_type": "display_data"
    }
   ],
   "source": [
    "# Plot a simple x y line graph with default settings\n",
    "plt.figure(figsize=(3,3))\n",
    "plt.plot([1, 2, 3, 4, 5], [5, 4, 3, 2, 1])"
   ]
  },
  {
   "cell_type": "markdown",
   "metadata": {},
   "source": [
    "You can read more about the plotting function in [matplotlib pyplot documentation](https://matplotlib.org/api/_as_gen/matplotlib.pyplot.plot.html). We will introduce matplotlib in detail during week 7."
   ]
  },
  {
   "cell_type": "markdown",
   "metadata": {},
   "source": [
    "## Using module functions\n",
    "\n",
    "As we see above, the easiest way to use a module is to import it an then use its functions by typing `modulename.functionname()` and providing the necessary arguments.\n",
    "Yes, it is that simple.\n",
    "\n",
    "However, there are times you may not know the names of all of the functions in a given module, or which are part of a module.\n",
    "You can view the list of functions that are part of a module by using the `dir()` function."
   ]
  },
  {
   "cell_type": "code",
   "execution_count": 30,
   "metadata": {},
   "outputs": [
    {
     "name": "stdout",
     "output_type": "stream",
     "text": [
      "['__doc__', '__file__', '__loader__', '__name__', '__package__', '__spec__', 'acos', 'acosh', 'asin', 'asinh', 'atan', 'atan2', 'atanh', 'ceil', 'comb', 'copysign', 'cos', 'cosh', 'degrees', 'dist', 'e', 'erf', 'erfc', 'exp', 'expm1', 'fabs', 'factorial', 'floor', 'fmod', 'frexp', 'fsum', 'gamma', 'gcd', 'hypot', 'inf', 'isclose', 'isfinite', 'isinf', 'isnan', 'isqrt', 'lcm', 'ldexp', 'lgamma', 'log', 'log10', 'log1p', 'log2', 'modf', 'nan', 'nextafter', 'perm', 'pi', 'pow', 'prod', 'radians', 'remainder', 'sin', 'sinh', 'sqrt', 'tan', 'tanh', 'tau', 'trunc', 'ulp']\n"
     ]
    }
   ],
   "source": [
    "print(dir(math))"
   ]
  },
  {
   "cell_type": "markdown",
   "metadata": {},
   "source": [
    "You can also browse the available modules by typing in modulename. and then pressing the tab-key:\n",
    "\n",
    "![view module keys img](img/view_module_functions.png)"
   ]
  },
  {
   "cell_type": "markdown",
   "metadata": {},
   "source": [
    "So that's helpful, but what about when you don't know what a given function does?\n",
    "The easiest solution is to use the `help()` function (after importing the module).\n",
    "Let's check the help for the `math.sin` function."
   ]
  },
  {
   "cell_type": "code",
   "execution_count": 31,
   "metadata": {},
   "outputs": [
    {
     "name": "stdout",
     "output_type": "stream",
     "text": [
      "Help on built-in function sin in module math:\n",
      "\n",
      "sin(x, /)\n",
      "    Return the sine of x (measured in radians).\n",
      "\n"
     ]
    }
   ],
   "source": [
    "help(math.sin)"
   ]
  },
  {
   "cell_type": "markdown",
   "metadata": {},
   "source": [
    "## What should I not do?\n",
    "\n",
    "Here are a few things to avoid.\n",
    "\n",
    "### from X import *\n",
    "\n",
    "Don't use `from X import *`.\n",
    "This may be easier to understand by way of an example, but assuming `X` above is a Python module, `from X import *` will import all of the functions in module X.\n",
    "Though you might think this is helpful, it is much better to simply `import X` or `import X as Y` to keep the connection between the functions and their module.\n",
    "It is also much more likely you will encounter conflicting names when using `from X import *`.\n",
    "\n",
    "### Poor names when renaming on import\n",
    "\n",
    "Don't use confusing names when renaming on import.\n",
    "Be smart when you import modules, and follow generally used conventions (`import pandas as pd` is a good way to do things!).\n",
    "If you want to make the module name shorter on import, pick a reasonable abbreviation.\n",
    "For instance, `import matplotlib as m` could be confusing, especially if you're also using `import math as m` in other Jupyter notebooks or script files.\n",
    "Similarly, `import matplotlib as math` is perfectly OK syntax in Python, but bound to cause a world of trouble.\n",
    "Remember, people need to be able to read and understand the code you write, keep it simple and logical."
   ]
  },
  {
   "cell_type": "markdown",
   "metadata": {},
   "source": [
    "#### What does PEP 8 say about imports?\n",
    "\n",
    "According to good coding practices described in <a href=\"https://www.python.org/dev/peps/pep-0008/#imports\">PEP 8</a>, we should always import modules at the top of the file. In this lesson, we are demonstrating how to import different modules along the way, but in general it would be better to import requried modules as the very first thing. PEP 8 refers more to traditional script files, but we can apply the guideline to Jupyter Notebook files by placing our imports the first code cell in the Jupyter Notebook."
   ]
  },
  {
   "cell_type": "markdown",
   "metadata": {},
   "source": [
    "## Installing packages\n",
    "\n",
    "For those using their own computers, we recommend using the [Mamba](https://mamba.readthedocs.io/en/latest/index.html) package management system. Using Mamba, you can list installed package names and versions using the `mamba list` command. You can read more about installing Python and Mamba for the purposes of this course on the [Installing Python page](https://geo-python-site.readthedocs.io/en/latest/course-info/installing-miniconda.html).\n",
    "    \n",
    "It's also good to be aware of [pip](https://pypi.org/project/pip/), the package installer for python. Pip and Mamba are often used for similar purposes, but the key difference is that pip is used for installing packages written in Python, while Mamba handles packages that might also contain code written in other languages. Generally, we encourage you to use Mamba when installing packages (and within Mamba, prefer for you to use the same channel for installations). However, sometimes you might need a package that is not available via Mamba, but can be installed with pip.\n",
    "\n",
    "#### Checking all available modules in a Jupyter Notebook\n",
    "In a Jupyter Notebook, you can type in `help(\"modules\")` to check the complete list of installed packages in Python. However, the output is a bit clumsy and hard to read..."
   ]
  },
  {
   "cell_type": "code",
   "execution_count": 32,
   "metadata": {},
   "outputs": [
    {
     "name": "stdout",
     "output_type": "stream",
     "text": [
      "\n",
      "Please wait a moment while I gather a list of all available modules...\n",
      "\n"
     ]
    },
    {
     "name": "stderr",
     "output_type": "stream",
     "text": [
      "/home/jb/miniforge3/envs/geo-python-student/lib/python3.10/pkgutil.py:92: UserWarning: The numpy.array_api submodule is still experimental. See NEP 47.\n",
      "  __import__(info.name)\n",
      "/home/jb/miniforge3/envs/geo-python-student/lib/python3.10/site-packages/_distutils_hack/__init__.py:33: UserWarning: Setuptools is replacing distutils.\n",
      "  warnings.warn(\"Setuptools is replacing distutils.\")\n"
     ]
    },
    {
     "name": "stdout",
     "output_type": "stream",
     "text": [
      "Python version: 3.10.12 | packaged by conda-forge | (main, Jun 23 2023, 22:40:32) [GCC 12.3.0]\n",
      "GEOS version: 3.12.1-CAPI-1.18.1\n",
      "Numpy version: 1.25.2\n",
      "IPython             binhex              jupyter             re\n",
      "OpenSSL             bisect              jupyter_client      readline\n",
      "PIL                 bleach              jupyter_contrib_core referencing\n",
      "PyQt5               blinker             jupyter_core        reprlib\n",
      "__future__          bokeh               jupyter_events      requests\n",
      "_abc                branca              jupyter_lsp         resource\n",
      "_aix_support        brotli              jupyter_nbextensions_configurator rfc3339_validator\n",
      "_argon2_cffi_bindings bs4                 jupyter_server      rfc3986_validator\n",
      "_ast                builtins            jupyter_server_fileid rlcompleter\n",
      "_asyncio            bz2                 jupyter_server_mathjax rpds\n",
      "_bisect             cProfile            jupyter_server_terminals rtree\n",
      "_blake2             cached_property     jupyter_server_ydoc runpy\n",
      "_bootsubprocess     calendar            jupyter_telemetry   sched\n",
      "_brotli             certifi             jupyter_ydoc        scipy\n",
      "_bz2                certipy             jupyterhub          secrets\n",
      "_cffi_backend       cffi                jupyterlab          select\n",
      "_codecs             cgi                 jupyterlab_git      selectors\n",
      "_codecs_cn          cgitb               jupyterlab_pygments send2trash\n",
      "_codecs_hk          charset_normalizer  jupyterlab_server   setuptools\n",
      "_codecs_iso2022     chunk               jwt                 shapely\n",
      "_codecs_jp          click               keyword             shelve\n",
      "_codecs_kr          click_plugins       kiwisolver          shlex\n",
      "_codecs_tw          cligj               lib2to3             shutil\n",
      "_collections        cmath               linecache           signal\n",
      "_collections_abc    cmd                 linkify_it          sipbuild\n",
      "_compat_pickle      code                locale              site\n",
      "_compression        codecs              logging             six\n",
      "_contextvars        codeop              lzma                sklearn\n",
      "_crypt              collections         mailbox             smmap\n",
      "_csv                colorama            mailcap             smtpd\n",
      "_ctypes             colorcet            mako                smtplib\n",
      "_ctypes_test        colorsys            mapclassify         sndhdr\n",
      "_curses             comm                markdown            sniffio\n",
      "_curses_panel       compileall          markdown_it         snuggs\n",
      "_datetime           concurrent          markupsafe          socket\n",
      "_decimal            configparser        marshal             socketserver\n",
      "_distutils_hack     contextlib          math                socks\n",
      "_elementtree        contextvars         matplotlib          sockshandler\n",
      "_functools          contourpy           matplotlib_inline   soupsieve\n",
      "_hashlib            copy                mdit_py_plugins     spwd\n",
      "_heapq              copyreg             mdurl               sqlalchemy\n",
      "_imp                crypt               mimetypes           sqlite3\n",
      "_io                 cryptography        mistune             sre_compile\n",
      "_json               csv                 mmap                sre_constants\n",
      "_locale             ctypes              modulefinder        sre_parse\n",
      "_lsprof             curl                multiprocessing     ssl\n",
      "_lzma               curses              munkres             stack_data\n",
      "_markupbase         cycler              nbclassic           stat\n",
      "_md5                dataclasses         nbclient            statistics\n",
      "_multibytecodec     datetime            nbconvert           string\n",
      "_multiprocessing    dateutil            nbdime              stringprep\n",
      "_opcode             dbm                 nbformat            struct\n",
      "_operator           debugpy             nest_asyncio        subprocess\n",
      "_osx_support        decimal             netrc               sunau\n",
      "_pickle             decorator           networkx            symtable\n",
      "_posixshmem         defusedxml          nis                 sys\n",
      "_posixsubprocess    difflib             nntplib             sysconfig\n",
      "_py_abc             dis                 nose                syslog\n",
      "_pydecimal          distutils           notebook            tabnanny\n",
      "_pyio               doctest             notebook_shim       tarfile\n",
      "_queue              email               ntpath              telnetlib\n",
      "_random             encodings           nturl2path          tempfile\n",
      "_ruamel_yaml        ensurepip           numbergen           terminado\n",
      "_sha1               entrypoints         numbers             termios\n",
      "_sha256             enum                numpy               test\n",
      "_sha3               errno               oauthlib            textwrap\n",
      "_sha512             exceptiongroup      opcode              this\n",
      "_signal             executing           operator            threading\n",
      "_sitebuiltins       fastjsonschema      optparse            threadpoolctl\n",
      "_socket             faulthandler        os                  time\n",
      "_sqlite3            fcntl               osgeo               timeit\n",
      "_sre                filecmp             osgeo_utils         tinycss2\n",
      "_ssl                fileinput           ossaudiodev         tkinter\n",
      "_stat               fiona               overrides           token\n",
      "_statistics         fnmatch             packaging           tokenize\n",
      "_string             folium              pamela              toml\n",
      "_strptime           fontTools           pandas              tomli\n",
      "_struct             fqdn                pandocfilters       tornado\n",
      "_symtable           fractions           panel               tqdm\n",
      "_sysconfigdata__linux_x86_64-linux-gnu ftplib              param               trace\n",
      "_sysconfigdata_x86_64_conda_cos6_linux_gnu functools           parso               traceback\n",
      "_sysconfigdata_x86_64_conda_linux_gnu gc                  pathlib             tracemalloc\n",
      "_testbuffer         genericpath         pdb                 traitlets\n",
      "_testcapi           geographiclib       pexpect             tty\n",
      "_testclinic         geopandas           pickle              turtle\n",
      "_testimportmultiple geopy               pickleshare         turtledemo\n",
      "_testinternalcapi   getopt              pickletools         types\n",
      "_testmultiphase     getpass             pip                 typing\n",
      "_thread             gettext             pipes               typing_extensions\n",
      "_threading_local    git                 pkg_resources       typing_utils\n",
      "_tkinter            gitdb               pkgutil             tzdata\n",
      "_tracemalloc        glob                pkgutil_resolve_name uc_micro\n",
      "_uuid               graphlib            platform            unicodedata\n",
      "_warnings           greenlet            platformdirs        unicodedata2\n",
      "_weakref            grp                 plistlib            unittest\n",
      "_weakrefset         gzip                ply                 uri_template\n",
      "_xxsubinterpreters  hashlib             poplib              urllib\n",
      "_xxtestfuzz         heapq               posix               urllib3\n",
      "_yaml               hmac                posixpath           uu\n",
      "_zoneinfo           holoviews           pprint              uuid\n",
      "abc                 html                profile             venv\n",
      "affine              http                prometheus_client   warnings\n",
      "aifc                hvplot              prompt_toolkit      wave\n",
      "aiofiles            idlelib             pstats              wcwidth\n",
      "aiosqlite           idna                psutil              weakref\n",
      "alembic             imageio             pty                 webbrowser\n",
      "antigravity         imaplib             ptyprocess          webcolors\n",
      "anyio               imghdr              pure_eval           webencodings\n",
      "argon2              imp                 pwd                 websocket\n",
      "argparse            importlib           py_compile          wheel\n",
      "array               importlib_metadata  pyclbr              wsgiref\n",
      "arrow               importlib_resources pycparser           xdrlib\n",
      "ast                 inspect             pyct                xml\n",
      "asttokens           io                  pycurl              xmlrpc\n",
      "async_generator     ipaddress           pydoc               xxlimited\n",
      "async_lru           ipykernel           pydoc_data          xxlimited_35\n",
      "asynchat            ipykernel_launcher  pyexpat             xxsubtype\n",
      "asyncio             ipython_genutils    pygments            xyzservices\n",
      "asyncore            isoduration         pylab               y_py\n",
      "atexit              itertools           pyparsing           yaml\n",
      "attr                jedi                pyproj              ypy_websocket\n",
      "attrs               jinja2              pythonjsonlogger    zipapp\n",
      "audioop             joblib              pytz                zipfile\n",
      "babel               json                pyviz_comms         zipimport\n",
      "backcall            json5               queue               zipp\n",
      "base64              jsonpointer         quopri              zlib\n",
      "bdb                 jsonschema          random              zmq\n",
      "binascii            jsonschema_specifications rasterio            zoneinfo\n",
      "\n",
      "Enter any module name to get more help.  Or, type \"modules spam\" to search\n",
      "for modules whose name or summary contain the string \"spam\".\n",
      "\n"
     ]
    },
    {
     "name": "stderr",
     "output_type": "stream",
     "text": [
      "/home/jb/miniforge3/envs/geo-python-student/lib/python3.10/site-packages/tqdm/auto.py:21: TqdmWarning: IProgress not found. Please update jupyter and ipywidgets. See https://ipywidgets.readthedocs.io/en/stable/user_install.html\n",
      "  from .autonotebook import tqdm as notebook_tqdm\n"
     ]
    }
   ],
   "source": [
    "# List all available modules. Note: when running this command, you might first get several warnings related to deprecated packages etc.\n",
    "help(\"modules\")"
   ]
  },
  {
   "cell_type": "code",
   "execution_count": 35,
   "metadata": {},
   "outputs": [
    {
     "name": "stdout",
     "output_type": "stream",
     "text": [
      "\n",
      "Here is a list of modules whose name or summary contains 'geopandas'.\n",
      "If there are any, enter a module name to get more help.\n",
      "\n",
      "geopandas \n",
      "geopandas._compat \n",
      "geopandas._config - Lightweight options machinery.\n",
      "geopandas._decorator \n",
      "geopandas._vectorized - Compatibility shim for the vectorized geometry operations.\n",
      "geopandas._version \n",
      "geopandas.array \n",
      "geopandas.base \n",
      "geopandas.conftest \n",
      "geopandas.datasets \n",
      "geopandas.datasets.naturalearth_creation - Script that generates the included dataset 'naturalearth_lowres.shp'\n",
      "geopandas.explore \n",
      "geopandas.geodataframe \n",
      "geopandas.geoseries \n",
      "geopandas.io \n",
      "geopandas.io._pyarrow_hotfix \n",
      "geopandas.io.arrow \n",
      "geopandas.io.file \n",
      "geopandas.io.sql \n",
      "geopandas.io.tests \n",
      "geopandas.io.tests.generate_legacy_storage_files - Script to create the data and write legacy storage (pickle) files.\n",
      "geopandas.io.tests.test_arrow \n",
      "geopandas.io.tests.test_file \n",
      "geopandas.io.tests.test_file_geom_types_drivers \n",
      "geopandas.io.tests.test_infer_schema \n",
      "geopandas.io.tests.test_pickle - See generate_legacy_storage_files.py for the creation of the legacy files.\n",
      "geopandas.io.tests.test_sql - Tests here include reading/writing to different types of spatial databases.\n",
      "geopandas.plotting \n",
      "geopandas.sindex \n",
      "geopandas.testing - Testing functionality for geopandas objects.\n",
      "geopandas.tests \n",
      "geopandas.tests.test_api \n",
      "geopandas.tests.test_array \n",
      "geopandas.tests.test_compat \n",
      "geopandas.tests.test_config \n",
      "geopandas.tests.test_crs \n",
      "geopandas.tests.test_datasets \n",
      "geopandas.tests.test_decorator \n",
      "geopandas.tests.test_dissolve \n",
      "geopandas.tests.test_explore \n",
      "geopandas.tests.test_extension_array - This file contains a minimal set of tests for compliance with the extension\n",
      "geopandas.tests.test_geocode \n",
      "geopandas.tests.test_geodataframe \n",
      "geopandas.tests.test_geom_methods \n",
      "geopandas.tests.test_geoseries \n",
      "geopandas.tests.test_merge \n",
      "geopandas.tests.test_op_output_types \n",
      "geopandas.tests.test_overlay \n",
      "geopandas.tests.test_pandas_methods \n",
      "geopandas.tests.test_plotting \n",
      "geopandas.tests.test_show_versions \n",
      "geopandas.tests.test_sindex \n",
      "geopandas.tests.test_testing \n",
      "geopandas.tests.test_types \n",
      "geopandas.tests.util \n",
      "geopandas.tools \n",
      "geopandas.tools._random \n",
      "geopandas.tools._show_versions \n",
      "geopandas.tools.clip - geopandas.clip\n",
      "geopandas.tools.geocoding \n",
      "geopandas.tools.hilbert_curve \n",
      "geopandas.tools.overlay \n",
      "geopandas.tools.sjoin \n",
      "geopandas.tools.tests \n",
      "geopandas.tools.tests.test_clip - Tests for the clip module.\n",
      "geopandas.tools.tests.test_hilbert_curve \n",
      "geopandas.tools.tests.test_random \n",
      "geopandas.tools.tests.test_sjoin \n",
      "geopandas.tools.tests.test_tools \n",
      "geopandas.tools.util \n",
      "mapclassify.greedy - greedy - Greedy (topological) coloring for GeoPandas\n",
      "\n"
     ]
    }
   ],
   "source": [
    "help(\"modules geopandas\")"
   ]
  },
  {
   "cell_type": "code",
   "execution_count": null,
   "metadata": {},
   "outputs": [],
   "source": []
  }
 ],
 "metadata": {
  "kernelspec": {
   "display_name": "Python 3 (ipykernel)",
   "language": "python",
   "name": "python3"
  },
  "language_info": {
   "codemirror_mode": {
    "name": "ipython",
    "version": 3
   },
   "file_extension": ".py",
   "mimetype": "text/x-python",
   "name": "python",
   "nbconvert_exporter": "python",
   "pygments_lexer": "ipython3",
   "version": "3.10.12"
  }
 },
 "nbformat": 4,
 "nbformat_minor": 4
}
